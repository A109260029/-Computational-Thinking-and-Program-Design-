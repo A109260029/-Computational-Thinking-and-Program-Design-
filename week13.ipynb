{
  "nbformat": 4,
  "nbformat_minor": 0,
  "metadata": {
    "colab": {
      "name": "歡迎使用 Colaboratory",
      "provenance": [],
      "collapsed_sections": [],
      "include_colab_link": true
    },
    "kernelspec": {
      "display_name": "Python 3",
      "name": "python3"
    }
  },
  "cells": [
    {
      "cell_type": "markdown",
      "metadata": {
        "id": "view-in-github",
        "colab_type": "text"
      },
      "source": [
        "<a href=\"https://colab.research.google.com/github/A109260029/-Computational-Thinking-and-Program-Design-/blob/master/week13.ipynb\" target=\"_parent\"><img src=\"https://colab.research.google.com/assets/colab-badge.svg\" alt=\"Open In Colab\"/></a>"
      ]
    },
    {
      "cell_type": "code",
      "metadata": {
        "id": "ACbIyuvNkHwR",
        "outputId": "69f3adb3-f887-43ec-9b46-fac80f6818ea",
        "colab": {
          "base_uri": "https://localhost:8080/"
        }
      },
      "source": [
        "for i in range(100,90,-3):\r\n",
        "    print(i)"
      ],
      "execution_count": 13,
      "outputs": [
        {
          "output_type": "stream",
          "text": [
            "100\n",
            "97\n",
            "94\n",
            "91\n"
          ],
          "name": "stdout"
        }
      ]
    },
    {
      "cell_type": "code",
      "metadata": {
        "id": "Etugz6Kcr6la",
        "outputId": "fc14732e-8a59-4883-fa10-3a21ddaf40dc",
        "colab": {
          "base_uri": "https://localhost:8080/"
        }
      },
      "source": [
        "start=int(input('請輸入開始加總值?'))\r\n",
        "end=int(input('請輸入加總終止值?'))\r\n",
        "step= int(input('請輸入遞增減值'))\r\n",
        "sum=0    #初始條件\r\n",
        "for i in range(start,end,step): #判斷條件\r\n",
        "    sum=sum+i#sum+=i\r\n",
        "    print(\"Total is\", sum)"
      ],
      "execution_count": 21,
      "outputs": [
        {
          "output_type": "stream",
          "text": [
            "請輸入開始加總值?2\n",
            "請輸入加總終止值?10\n",
            "請輸入遞增減值2\n",
            "Total is 2\n",
            "Total is 6\n",
            "Total is 12\n",
            "Total is 20\n"
          ],
          "name": "stdout"
        }
      ]
    }
  ]
}