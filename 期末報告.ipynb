{
  "nbformat": 4,
  "nbformat_minor": 0,
  "metadata": {
    "colab": {
      "name": "歡迎使用 Colaboratory",
      "provenance": [],
      "collapsed_sections": [],
      "toc_visible": true,
      "include_colab_link": true
    },
    "kernelspec": {
      "display_name": "Python 3",
      "name": "python3"
    }
  },
  "cells": [
    {
      "cell_type": "markdown",
      "metadata": {
        "id": "view-in-github",
        "colab_type": "text"
      },
      "source": [
        "<a href=\"https://colab.research.google.com/github/A109260029/-Computational-Thinking-and-Program-Design-/blob/master/%E6%9C%9F%E6%9C%AB%E5%A0%B1%E5%91%8A.ipynb\" target=\"_parent\"><img src=\"https://colab.research.google.com/assets/colab-badge.svg\" alt=\"Open In Colab\"/></a>"
      ]
    },
    {
      "cell_type": "markdown",
      "metadata": {
        "id": "dIA5coYP7OmJ"
      },
      "source": [
        "⼈員：\r\n",
        "鄭盛元 A109260021\r\n",
        "孫揚凱 A109260055\r\n",
        "徐緯鳴 A109260053\r\n",
        "林氶哲 A109260101\r\n",
        "林威廷 A109260061\r\n",
        "謝易璋 A109260095\r\n",
        "李林宏 A109260029\r\n",
        "分⼯名單：⼀⼈打⼀段然後分別上台報告\r\n",
        "報告順序如程式上的順序\r\n",
        "腳本：⼀群朋友相約出去玩，在討論的時候碰到許多問題，諸如要不要吃早餐？吃什麼和要去哪\r\n",
        "裡玩跟花費的問題，之後到遊樂園時還有⾨票跟要玩什麼遊樂設施最後是回家的問題"
      ]
    },
    {
      "cell_type": "code",
      "metadata": {
        "id": "_PtT3UAtajci"
      },
      "source": [
        "#鄭盛元\n",
        "mood=input(\"嗨囉!好久不見.最近過得好嗎?\")\n",
        "print(\"真的嘛?那我們應該多出來聚聚的\")\n",
        "breakfast = int(input(\"肚子好餓喔!要不要吃早餐啊?餓的程度1~10你打幾分\"))\n",
        "if breakfast>=5:\n",
        "  print(\"最近有新開的中式早餐诶!要去吃看看嗎?\")\n",
        "if breakfast<5:\n",
        "  print(\"不管.我餓了!我們去吃早餐拉!\")  \n",
        "menudrink=[\"可樂.奶茶.紅茶,咖啡\"]  \n",
        "menumeals=[\"1號餐.2號餐.3號餐\"]\n",
        "Waiter = int(input(\"請問你們幾位呢?\"))\n",
        "print(\"這邊請坐.等下會有人為您服務\")\n",
        "print(\"他們有什麼吃得跟喝的阿?\")\n",
        "print(\"我們吃的有\",menumeals)\n",
        "print(\"我們喝的有\",menudrink)\n",
        "drink= int(input(\"請問妳們要喝什麼呢?\"))\n",
        "tastydrink=[\"可樂\",\"奶茶\",\"紅茶\"]\n",
        "for i in tastydrink:\n",
        "  print(\"我想點\",i)\n",
        "meals= int(input(\"那你們要吃幾號餐呢?\"))\n",
        "if meals==1:\n",
        "  A=50\n",
        "  for i in range(0,2,1):\n",
        "    print(\"真巧,我也想吃這個\")\n",
        "else:\n",
        "  A=60\n",
        "  print(\"蛤,我比較想吃1號餐\")  \n",
        "  for i in range(0,2,1):\n",
        "       print(\"我也是\")\n",
        "total=A+190       \n",
        "print(\"好的,一共是\",total)\n",
        "print(\"謝謝光臨,歡迎下次再來\")"
      ],
      "execution_count": null,
      "outputs": []
    },
    {
      "cell_type": "code",
      "metadata": {
        "id": "tUKmxbJE9Pep"
      },
      "source": [
        "#孫揚凱\r\n",
        "print(\"鴨子：ㄟㄟ, 哥, 我們等等要怎麼去遊樂園玩？\")\r\n",
        "list1=(\"'坐捷運', '坐計程車', '走路', 'Ubike'?\")\r\n",
        "print(\"要怎麼去？\",  ' ')\r\n",
        "print(list1)\r\n",
        "怎麼去 = int(input(\"要怎麼去呢?, 0坐捷運 1坐計程車 2走路 3Ubike\"))\r\n",
        "if 怎麼去==0:\r\n",
        "  print(\"好鴨, 哪次不坐\")\r\n",
        "if 怎麼去==1:\r\n",
        "  print(\"好貴喔, 我們坐捷運好了\")\r\n",
        "if 怎麼去==2: \r\n",
        "  print(\"你走給我看啊XD,我在那邊等你\")\r\n",
        "if 怎麼去==3:\r\n",
        "  print(\"走啊!!,喔,是騎鴨\")\r\n",
        "  print(\"騎鴨ww\")\r\n",
        "print(\"哲哥：ㄟ不對,我們還沒決定要去哪玩啊XD\")"
      ],
      "execution_count": null,
      "outputs": []
    },
    {
      "cell_type": "code",
      "metadata": {
        "id": "2ijiDm-v9TL4"
      },
      "source": [
        "#孫揚凱\r\n",
        "print(\"鴨子：ㄟㄟ, 哥, 我們等等要怎麼去遊樂園玩？\")\r\n",
        "list1=(\"'坐捷運', '坐計程車', '走路', 'Ubike'?\")\r\n",
        "print(\"要怎麼去？\",  ' ')\r\n",
        "print(list1)\r\n",
        "怎麼去 = int(input(\"要怎麼去呢?, 0坐捷運 1坐計程車 2走路 3Ubike\"))\r\n",
        "if 怎麼去==0:\r\n",
        "  print(\"好鴨, 哪次不坐\")\r\n",
        "if 怎麼去==1:\r\n",
        "  print(\"好貴喔, 我們坐捷運好了\")\r\n",
        "if 怎麼去==2: \r\n",
        "  print(\"你走給我看啊XD,我在那邊等你\")\r\n",
        "if 怎麼去==3:\r\n",
        "  print(\"走啊!!,喔,是騎鴨\")\r\n",
        "  print(\"騎鴨ww\")\r\n",
        "print(\"哲哥：ㄟ不對,我們還沒決定要去哪玩啊XD\")"
      ],
      "execution_count": null,
      "outputs": []
    },
    {
      "cell_type": "code",
      "metadata": {
        "id": "vSruNMza9XPA"
      },
      "source": [
        "#林氶哲\r\n",
        "print(\"Hi welcome to shu amusement park how can i help you?\")\r\n",
        "print(\"I need to buy tickets.\")\r\n",
        "list1 = [\"Adults: $150\",\"Students: $120\",\"Childern: $80\",\"Kids: $40\"]\r\n",
        "list2 = [\"Coke: $50\",\"Sprite: $50\",\"Hot Dog: $45\"]\r\n",
        "print(\"Okay so here is our list or all the ticket price and the discount\",list1)\r\n",
        "print(\"Just in case you need something to eat or to drink\", list2)\r\n",
        "adult = int(input(\"I want adult tickets for \"))\r\n",
        "student = int(input(\"I want student tickets for \"))\r\n",
        "children = int(input(\"I want children tickets for \"))\r\n",
        "kids = int(input(\"I want kids tickets for \"))\r\n",
        "print(\"You need anything else?\")\r\n",
        "coke = int(input(\"I want \")) \r\n",
        "print(\" cups of coke.\")\r\n",
        "sprite = int(input(\"I want \"))\r\n",
        "print(\" cups of sprite.\")\r\n",
        "hotdog = int(input(\"I want \"))\r\n",
        "print(\" hot dogs.\")\r\n",
        "import math\r\n",
        "total = adult*150 + student*120 + children*80 + kids*40 + coke*50 + sprite*50 + hotdog*45\r\n",
        "if (total>400) and (total<=650):\r\n",
        "  print(\"Okay so your total will be \", math.ceil(total*0.9*10)/10.0, \".\")\r\n",
        "elif (total>650) and (total<=900):\r\n",
        "  print(\"Okay so your total amount will be \", math.ceil(total*0.85*10)/10.0, \".\")\r\n",
        "elif (total>900) and (total<=1150):\r\n",
        "  print(\"Okay so your total amount will be \", (total*0.8*10)/10.0, \".\")\r\n",
        "elif total>1150:\r\n",
        "  print(\"Okay so your total amount will  be \", math.ceil(total*0.75*10)/10.0, \".\")\r\n",
        "else:\r\n",
        "  print(\"Okay so your total amount will be \", total, \".\")\r\n",
        "print(\"Card or cash?\")\r\n",
        "print(\"Card, please.\")\r\n",
        "print(\"Have a nice day!\")\r\n",
        "print(\"Yeah you too.\")"
      ],
      "execution_count": null,
      "outputs": []
    },
    {
      "cell_type": "code",
      "metadata": {
        "id": "UAcrQb3r9aW0"
      },
      "source": [
        "#林威廷\r\n",
        "print(\"威哥:欸,到了遊樂園想玩些啥啊?\")\r\n",
        "list1=(\"'海盜船','雲霄飛車',大怒神還是鬼屋'?\")\r\n",
        "print(\"玩啥呢?\")\r\n",
        "print(list1)\r\n",
        "玩啥呢=int(input(\"玩啥呢?,0海盜船 1雲霄飛車 2大怒神 3鬼屋 \"))\r\n",
        "if 玩啥呢==0:\r\n",
        "  print(\"ok,走\")\r\n",
        "if 玩啥呢==1:\r\n",
        "  print(\"ok,走\")\r\n",
        "if 玩啥呢==2:\r\n",
        "  print(\"ok,走\")\r\n",
        "if 玩啥呢==3:\r\n",
        "  print(\"ok,走\")\r\n",
        "print(\"緯鳴:可是我比較想玩旋轉木馬欸,那個才夠驚險刺激\")\r\n",
        "print(\"盛元:就是說啊,摩天輪也行,男人就是要玩那種的\")\r\n",
        "print(\"哲哥:蛤?供三小\")\r\n",
        "print(\"孔雀王李林宏:比起玩遊樂園,我比較想幹野獸欸\")\r\n",
        "print(\"鴨哥:幹哪種野獸都行,就是不准幹鴨子\")\r\n",
        "print(\"易璋:哈哈哈 笑死\")"
      ],
      "execution_count": null,
      "outputs": []
    },
    {
      "cell_type": "code",
      "metadata": {
        "id": "33Br1UKi9c38"
      },
      "source": [
        "#謝易璋\r\n",
        "print(\"今天真好玩, 可惜快樂的時光總是稍縱即逝\")\r\n",
        "print(\"鴨哥:沒關係啊, 我們之後可以再約啊\")\r\n",
        "list1 = ('那週末吧','寒假吧')\r\n",
        "print (\"我:好啊,剛才那個害鴨哥落水的急流泛舟我也想再玩一次, 那要什麼時候?段考完的週末嗎?還是寒假?\")\r\n",
        "print(list1)\r\n",
        "date = int(input(\"1那週末吧 ,2寒假吧 \"))\r\n",
        "if date == 1:\r\n",
        "  print(\"哲哥:可是我已經跟女朋友約好那天要去北海道滑雪了欸\")\r\n",
        "  print(\"其他組員:....\")\r\n",
        "  print(\"我:那..那就寒假的時候吧?!大家的時間也比較好喬?!\")\r\n",
        "print(\"其他組員:好啊?!\")\r\n",
        "if date == 2:\r\n",
        "  print(\"鴨哥:好啊, 寒假的時候我也都待在台北\")\r\n",
        "  print(\"哲哥:好啊,我寒假也比較方便\")\r\n",
        "  print(\"那詳細的日期就那時候再約吧\")\r\n",
        "print(\"所有人:好啊\")"
      ],
      "execution_count": null,
      "outputs": []
    },
    {
      "cell_type": "code",
      "metadata": {
        "id": "OcK9tsBX9fty"
      },
      "source": [
        "#李林宏\r\n",
        "end = int(input(\"那麼各位要怎麼回家呢? 1是搭公車 2是騎車 3是搭捷運\"))\r\n",
        "if end == 1:\r\n",
        "  print(\"假如是要搭到景美的話, 要不要一起走?\")\r\n",
        "  print(\"好啊好啊\")\r\n",
        "if end == 2:\r\n",
        "  print(\"載我拜託, 到景美捷運站就好\")\r\n",
        "  print(\"好啦安全帽戴上\")\r\n",
        "if end == 3:\r\n",
        "  print(\"喔好吧, 再見\")\r\n",
        "  print(\"886\")"
      ],
      "execution_count": null,
      "outputs": []
    }
  ]
}